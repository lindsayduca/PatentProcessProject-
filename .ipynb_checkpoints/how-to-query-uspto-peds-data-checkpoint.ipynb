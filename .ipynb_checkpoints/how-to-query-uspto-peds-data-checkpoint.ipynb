{
 "cells": [
  {
   "cell_type": "markdown",
   "metadata": {
    "_cell_guid": "b1076dfc-b9ad-4769-8c92-a6c4dae69d19",
    "_uuid": "8f2839f25d086af736a60e9eeb907d3b93b6e0e5"
   },
   "source": [
    "# How to Query Patent Examiner Data System (PEDS) Data (BigQuery)\n",
    "[Click here](https://www.kaggle.com/mrisdal/safely-analyzing-github-projects-popular-licenses) for a detailed notebook demonstrating how to use the bq_helper module and best practises for interacting with BigQuery datasets."
   ]
  },
  {
   "cell_type": "code",
   "execution_count": null,
   "metadata": {
    "_cell_guid": "79c7e3d0-c299-4dcb-8224-4455121ee9b0",
    "_uuid": "d629ff2d2480ee46fbb7e2d37f6b5fab8052498a"
   },
   "outputs": [],
   "source": [
    "# Start by importing the bq_helper module and calling on the specific active_project and dataset_name for the BigQuery dataset.\n",
    "import bq_helper\n",
    "from bq_helper import BigQueryHelper\n",
    "# https://www.kaggle.com/sohier/introduction-to-the-bq-helper-package\n",
    "\n",
    "peds = bq_helper.BigQueryHelper(active_project=\"patents-public-data\",\n",
    "                                   dataset_name=\"uspto_peds\")"
   ]
  },
  {
   "cell_type": "code",
   "execution_count": null,
   "metadata": {
    "_uuid": "49f201c120bddd26fd7fbaa82cac898f69f21596"
   },
   "outputs": [],
   "source": [
    "# View table names under the uspto_peds data table\n",
    "bq_assistant = BigQueryHelper(\"patents-public-data\", \"uspto_peds\")\n",
    "bq_assistant.list_tables()"
   ]
  },
  {
   "cell_type": "code",
   "execution_count": null,
   "metadata": {
    "_uuid": "a1793a5fa0cb34915a150727d2d03c35c0acd83f"
   },
   "outputs": [],
   "source": [
    "# View the first three rows of the applications data table\n",
    "bq_assistant.head(\"applications\", num_rows=3)"
   ]
  },
  {
   "cell_type": "code",
   "execution_count": null,
   "metadata": {
    "_uuid": "7288cb784ea7240d5b10a1d2650ece8b626d7c21"
   },
   "outputs": [],
   "source": [
    "# View information on all columns in the wdi_2016 data table\n",
    "bq_assistant.table_schema(\"applications\")"
   ]
  },
  {
   "cell_type": "markdown",
   "metadata": {
    "_uuid": "7a49d0ed026eae607ca4a4f3196e5c0519adc5e5"
   },
   "source": [
    "## Example SQL Query\n",
    "Since the metadata is a little hard to understand, let's write a simple query that looks more closely at the content of a random column. Let's choose to look at applicantFileReference."
   ]
  },
  {
   "cell_type": "code",
   "execution_count": null,
   "metadata": {
    "_uuid": "7000c77cb411be6d9313a940d79cadf60982dd21"
   },
   "outputs": [],
   "source": [
    "query1 = \"\"\"\n",
    "SELECT DISTINCT\n",
    "  patentCaseMetadata.applicantFileReference\n",
    "FROM\n",
    "  `patents-public-data.uspto_peds.applications`\n",
    "LIMIT\n",
    "  20;\n",
    "        \"\"\"\n",
    "response1 = peds.query_to_pandas_safe(query1)\n",
    "response1.head(20)"
   ]
  },
  {
   "cell_type": "markdown",
   "metadata": {
    "_uuid": "aad156f1d354171cedc3382890e4e70c7ba8d792"
   },
   "source": [
    "## Importance of Knowing Your Query Sizes\n",
    "\n",
    "It is important to understand how much data is being scanned in each query due to the free 5TB per month quota. For example, if a query is formed that scans all of the data in a particular column, given how large BigQuery datasets are it wouldn't be too surprising if it burns through a large chunk of that monthly quota!\n",
    "\n",
    "Fortunately, the bq_helper module gives us tools to very easily estimate the size of our queries before running a query. Start by drafting up a query using BigQuery's Standard SQL syntax. Next, call the estimate_query_size function which will return the size of the query in GB. That way you can get a sense of how much data is being scanned before actually running your query."
   ]
  },
  {
   "cell_type": "code",
   "execution_count": null,
   "metadata": {
    "_uuid": "1b467cff57061bcf4af0de251aa0132f906af179"
   },
   "outputs": [],
   "source": [
    "bq_assistant.estimate_query_size(query1)"
   ]
  },
  {
   "cell_type": "markdown",
   "metadata": {
    "_uuid": "38690a0dd6913fd4838190b1593e98650af30370"
   },
   "source": [
    "Interpretting this number, this means my query scanned about ~0.12 GB (or 120 MB) of data in order to return a table of 20 rows from the applicantFileReference column of the dataset."
   ]
  }
 ],
 "metadata": {
  "kernelspec": {
   "display_name": "Python 3",
   "language": "python",
   "name": "python3"
  },
  "language_info": {
   "codemirror_mode": {
    "name": "ipython",
    "version": 3
   },
   "file_extension": ".py",
   "mimetype": "text/x-python",
   "name": "python",
   "nbconvert_exporter": "python",
   "pygments_lexer": "ipython3",
   "version": "3.8.5"
  }
 },
 "nbformat": 4,
 "nbformat_minor": 1
}
