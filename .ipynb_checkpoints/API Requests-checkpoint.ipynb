{
 "cells": [
  {
   "cell_type": "code",
   "execution_count": null,
   "id": "b87299d9",
   "metadata": {},
   "outputs": [],
   "source": [
    "# Curl requests for USPTO PEDS API ran through command line / terminal \n",
    "# Stores a set of query filters and constraints and returns a preview of the results \n",
    "curl   -i -X POST -H \"Content-Type:application/json\" -d \n",
    "# Query Filters \n",
    "'{\"searchText\":\"*:*\",\"fq\":\n",
    "# Selected Date \n",
    "[\"appFilingDate:[2020-01-01T00:00:00Z TO 2020-01-02T23:59:59Z]\"],\n",
    "\"fl\":\"*\",\n",
    "\"mm\":\"100%\",\n",
    "# Title of Patent\n",
    "\"df\":\"patentTitle\",\n",
    "# Chosen Fields \n",
    "\"qf\":\"appEarlyPubNumber applId appLocation appType appStatus_txt appConfrNumber appCustNumber appGrpArtNumber appCls appSubCls appEntityStatus_txt patentNumber patentTitle primaryInventor firstNamedApplicant appExamName appExamPrefrdName appAttrDockNumber appPCTNumber appIntlPubNumber wipoEarlyPubNumber pctAppType firstInventorFile appClsSubCls rankAndInventorsList\",\"facet\":\"false\",\"sort\":\"appFilingDate asc\"}'\n",
    "# API endpoint URL\n",
    "https://ped.uspto.gov/api/queries"
   ]
  },
  {
   "cell_type": "code",
   "execution_count": null,
   "id": "50ab653c",
   "metadata": {},
   "outputs": [],
   "source": [
    "# Using the resulted query with curl request \n",
    "# Resultant https for the set of filters stored as queryId \n",
    "curl  -X PUT \"https://ped.uspto.gov/api/queries/4c66b304-98c0-4755-9f94-582e758054cf/package?format=JSON\""
   ]
  },
  {
   "cell_type": "code",
   "execution_count": null,
   "id": "5c9b2394",
   "metadata": {},
   "outputs": [],
   "source": [
    "# Request complete set of results be bundled for download \n",
    "# Check status of bundle request \n",
    "curl \"https://ped.uspto.gov/api/queries/4c66b304-98c0-4755-9f94-582e758054cf\""
   ]
  },
  {
   "cell_type": "code",
   "execution_count": null,
   "id": "d1f6619d",
   "metadata": {},
   "outputs": [],
   "source": [
    "# Download completed bundle as JSON file \n",
    "# Will download as json file but need to copy over the link and open up results page manually \n",
    "curl  -L \"https://ped.uspto.gov/api/queries/4c66b304-98c0-4755-9f94-582e758054cf\" -o patent_bundle.json"
   ]
  }
 ],
 "metadata": {
  "kernelspec": {
   "display_name": "Python 3 (ipykernel)",
   "language": "python",
   "name": "python3"
  },
  "language_info": {
   "codemirror_mode": {
    "name": "ipython",
    "version": 3
   },
   "file_extension": ".py",
   "mimetype": "text/x-python",
   "name": "python",
   "nbconvert_exporter": "python",
   "pygments_lexer": "ipython3",
   "version": "3.9.7"
  }
 },
 "nbformat": 4,
 "nbformat_minor": 5
}
